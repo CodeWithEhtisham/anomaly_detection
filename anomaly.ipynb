{
  "nbformat": 4,
  "nbformat_minor": 0,
  "metadata": {
    "language_info": {
      "codemirror_mode": {
        "name": "ipython",
        "version": 3
      },
      "file_extension": ".py",
      "mimetype": "text/x-python",
      "name": "python",
      "nbconvert_exporter": "python",
      "pygments_lexer": "ipython3",
      "version": 3
    },
    "orig_nbformat": 2,
    "kernelspec": {
      "name": "python_defaultSpec_1596055016286",
      "display_name": "Python 3.7.6 64-bit ('base': conda)"
    },
    "colab": {
      "name": "anomaly.ipynb",
      "provenance": [],
      "collapsed_sections": []
    },
    "accelerator": "TPU"
  },
  "cells": [
    {
      "cell_type": "markdown",
      "metadata": {
        "id": "N6JHxRhcfFC8",
        "colab_type": "text"
      },
      "source": [
        "DBSCAN Clustering\n",
        "Finds core samples high decsity and expands cluster from them"
      ]
    },
    {
      "cell_type": "code",
      "metadata": {
        "id": "QTDfwg_8fFC-",
        "colab_type": "code",
        "colab": {}
      },
      "source": [
        "#importing modules, packages and dependencies\n",
        "import numpy as np \n",
        "import pandas as pd \n",
        "from sklearn.cluster import DBSCAN\n",
        "from collections import Counter\n",
        "from sklearn.preprocessing import StandardScaler\n",
        "import matplotlib.pyplot as plt\n",
        "from pylab import rcParams\n",
        "\n",
        "rcParams['figure.figsize']=18,12\n",
        "%matplotlib inline\n"
      ],
      "execution_count": 1,
      "outputs": []
    },
    {
      "cell_type": "code",
      "metadata": {
        "id": "lhw-TrirfFDK",
        "colab_type": "code",
        "colab": {}
      },
      "source": [
        "#Load data\n",
        "\n",
        "#Read CSV file\n",
        "data=pd.read_csv(\"cleaned_test.csv\")"
      ],
      "execution_count": 2,
      "outputs": []
    },
    {
      "cell_type": "code",
      "metadata": {
        "id": "FE97VcZJfFDN",
        "colab_type": "code",
        "colab": {
          "base_uri": "https://localhost:8080/",
          "height": 326
        },
        "outputId": "af5e0e62-ed9c-492b-d0cd-84409c5c58fa"
      },
      "source": [
        "data.head()"
      ],
      "execution_count": 3,
      "outputs": [
        {
          "output_type": "execute_result",
          "data": {
            "text/html": [
              "<div>\n",
              "<style scoped>\n",
              "    .dataframe tbody tr th:only-of-type {\n",
              "        vertical-align: middle;\n",
              "    }\n",
              "\n",
              "    .dataframe tbody tr th {\n",
              "        vertical-align: top;\n",
              "    }\n",
              "\n",
              "    .dataframe thead th {\n",
              "        text-align: right;\n",
              "    }\n",
              "</style>\n",
              "<table border=\"1\" class=\"dataframe\">\n",
              "  <thead>\n",
              "    <tr style=\"text-align: right;\">\n",
              "      <th></th>\n",
              "      <th>Unnamed: 0</th>\n",
              "      <th>id</th>\n",
              "      <th>vendor_id</th>\n",
              "      <th>pickup_datetime</th>\n",
              "      <th>passenger_count</th>\n",
              "      <th>pickup_longitude</th>\n",
              "      <th>pickup_latitude</th>\n",
              "      <th>dropoff_longitude</th>\n",
              "      <th>dropoff_latitude</th>\n",
              "      <th>store_and_fwd_flag</th>\n",
              "      <th>pickup_date</th>\n",
              "    </tr>\n",
              "  </thead>\n",
              "  <tbody>\n",
              "    <tr>\n",
              "      <th>0</th>\n",
              "      <td>0</td>\n",
              "      <td>id3004672</td>\n",
              "      <td>1</td>\n",
              "      <td>2016-06-30 23:59:58</td>\n",
              "      <td>1</td>\n",
              "      <td>-73.988129</td>\n",
              "      <td>40.732029</td>\n",
              "      <td>-73.990173</td>\n",
              "      <td>40.756680</td>\n",
              "      <td>N</td>\n",
              "      <td>2016-06-30</td>\n",
              "    </tr>\n",
              "    <tr>\n",
              "      <th>1</th>\n",
              "      <td>1</td>\n",
              "      <td>id3505355</td>\n",
              "      <td>1</td>\n",
              "      <td>2016-06-30 23:59:53</td>\n",
              "      <td>1</td>\n",
              "      <td>-73.964203</td>\n",
              "      <td>40.679993</td>\n",
              "      <td>-73.959808</td>\n",
              "      <td>40.655403</td>\n",
              "      <td>N</td>\n",
              "      <td>2016-06-30</td>\n",
              "    </tr>\n",
              "    <tr>\n",
              "      <th>2</th>\n",
              "      <td>2</td>\n",
              "      <td>id1217141</td>\n",
              "      <td>1</td>\n",
              "      <td>2016-06-30 23:59:47</td>\n",
              "      <td>1</td>\n",
              "      <td>-73.997437</td>\n",
              "      <td>40.737583</td>\n",
              "      <td>-73.986160</td>\n",
              "      <td>40.729523</td>\n",
              "      <td>N</td>\n",
              "      <td>2016-06-30</td>\n",
              "    </tr>\n",
              "    <tr>\n",
              "      <th>3</th>\n",
              "      <td>3</td>\n",
              "      <td>id2150126</td>\n",
              "      <td>2</td>\n",
              "      <td>2016-06-30 23:59:41</td>\n",
              "      <td>1</td>\n",
              "      <td>-73.956070</td>\n",
              "      <td>40.771900</td>\n",
              "      <td>-73.986427</td>\n",
              "      <td>40.730469</td>\n",
              "      <td>N</td>\n",
              "      <td>2016-06-30</td>\n",
              "    </tr>\n",
              "    <tr>\n",
              "      <th>4</th>\n",
              "      <td>4</td>\n",
              "      <td>id1598245</td>\n",
              "      <td>1</td>\n",
              "      <td>2016-06-30 23:59:33</td>\n",
              "      <td>1</td>\n",
              "      <td>-73.970215</td>\n",
              "      <td>40.761475</td>\n",
              "      <td>-73.961510</td>\n",
              "      <td>40.755890</td>\n",
              "      <td>N</td>\n",
              "      <td>2016-06-30</td>\n",
              "    </tr>\n",
              "  </tbody>\n",
              "</table>\n",
              "</div>"
            ],
            "text/plain": [
              "   Unnamed: 0         id  ...  store_and_fwd_flag pickup_date\n",
              "0           0  id3004672  ...                   N  2016-06-30\n",
              "1           1  id3505355  ...                   N  2016-06-30\n",
              "2           2  id1217141  ...                   N  2016-06-30\n",
              "3           3  id2150126  ...                   N  2016-06-30\n",
              "4           4  id1598245  ...                   N  2016-06-30\n",
              "\n",
              "[5 rows x 11 columns]"
            ]
          },
          "metadata": {
            "tags": []
          },
          "execution_count": 3
        }
      ]
    },
    {
      "cell_type": "markdown",
      "metadata": {
        "id": "XBWPYUabfFDR",
        "colab_type": "text"
      },
      "source": [
        "# we will find outlier and perform clustering based on geographical coordinates (pickup_longitude,pickup_latitude,dropoff_longitude,dropoff_latitude)\n",
        "\n"
      ]
    },
    {
      "cell_type": "code",
      "metadata": {
        "tags": [],
        "id": "0nlFRl4yfFDS",
        "colab_type": "code",
        "colab": {
          "base_uri": "https://localhost:8080/",
          "height": 323
        },
        "outputId": "e4151dc5-bd5f-49db-f5ed-cdb49110f0da"
      },
      "source": [
        "data.info()"
      ],
      "execution_count": 4,
      "outputs": [
        {
          "output_type": "stream",
          "text": [
            "<class 'pandas.core.frame.DataFrame'>\n",
            "RangeIndex: 41178 entries, 0 to 41177\n",
            "Data columns (total 11 columns):\n",
            " #   Column              Non-Null Count  Dtype  \n",
            "---  ------              --------------  -----  \n",
            " 0   Unnamed: 0          41178 non-null  int64  \n",
            " 1   id                  41178 non-null  object \n",
            " 2   vendor_id           41178 non-null  int64  \n",
            " 3   pickup_datetime     41178 non-null  object \n",
            " 4   passenger_count     41178 non-null  int64  \n",
            " 5   pickup_longitude    41178 non-null  float64\n",
            " 6   pickup_latitude     41178 non-null  float64\n",
            " 7   dropoff_longitude   41178 non-null  float64\n",
            " 8   dropoff_latitude    41178 non-null  float64\n",
            " 9   store_and_fwd_flag  41177 non-null  object \n",
            " 10  pickup_date         41177 non-null  object \n",
            "dtypes: float64(4), int64(3), object(4)\n",
            "memory usage: 3.5+ MB\n"
          ],
          "name": "stdout"
        }
      ]
    },
    {
      "cell_type": "code",
      "metadata": {
        "id": "4VVZsVHWfFDV",
        "colab_type": "code",
        "colab": {
          "base_uri": "https://localhost:8080/",
          "height": 295
        },
        "outputId": "0317d729-7068-4b4b-fa09-3cbccb3d3d94"
      },
      "source": [
        "#plot geographical points pickup\n",
        "_ = plt.plot(data['pickup_longitude'],data['pickup_latitude'],marker='.',linewidth=0,color='#128128')\n",
        "_ = plt.grid(which='major',color='#cccccc',alpha=0.45)\n",
        "_ =plt.title(\"Pick up latitude and longitude\")\n",
        "_ = plt.xlabel(\"Longitude\")\n",
        "_ =plt.ylabel(\"Latitude\")\n",
        "_ =plt.show()"
      ],
      "execution_count": 5,
      "outputs": [
        {
          "output_type": "display_data",
          "data": {
            "image/png": "[encoded data removed]",
            "text/plain": [
              "<Figure size 432x288 with 1 Axes>"
            ]
          },
          "metadata": {
            "tags": [],
            "needs_background": "light"
          }
        }
      ]
    },
    {
      "cell_type": "code",
      "metadata": {
        "id": "X_beKQGzfFDY",
        "colab_type": "code",
        "colab": {
          "base_uri": "https://localhost:8080/",
          "height": 295
        },
        "outputId": "186741d5-5951-42a5-f60b-2c8a8f6a3923"
      },
      "source": [
        "#plot geographical points Dropoff\n",
        "_ = plt.plot(data['dropoff_longitude'],data['dropoff_latitude'],marker='.',linewidth=0,color='#128128')\n",
        "_ = plt.grid(which='major',color='#cccccc',alpha=0.45)\n",
        "_ =plt.title(\"Drop off latitude and longitude\")\n",
        "_ = plt.xlabel(\"Longitude\")\n",
        "_ =plt.ylabel(\"Latitude\")\n",
        "_ =plt.show()"
      ],
      "execution_count": 7,
      "outputs": [
        {
          "output_type": "display_data",
          "data": {
            "image/png": "[encoded data removed]",
            "text/plain": [
              "<Figure size 432x288 with 1 Axes>"
            ]
          },
          "metadata": {
            "tags": [],
            "needs_background": "light"
          }
        }
      ]
    },
    {
      "cell_type": "markdown",
      "metadata": {
        "id": "awFD9RJJhCOh",
        "colab_type": "text"
      },
      "source": [
        "prepare DBSCAN model Data"
      ]
    },
    {
      "cell_type": "code",
      "metadata": {
        "id": "NkuGXbaOfFDb",
        "colab_type": "code",
        "colab": {
          "base_uri": "https://localhost:8080/",
          "height": 136
        },
        "outputId": "e49d9d38-c419-4a6e-f2c6-aa31f64a8c4b"
      },
      "source": [
        "#prepare data for model\n",
        "dbscan_data1=data[['pickup_longitude','pickup_latitude']]\n",
        "#data convert to Numpy array\n",
        "dbscan_data1=dbscan_data1.values.astype(\"float32\")\n",
        "dbscan_data1"
      ],
      "execution_count": 22,
      "outputs": [
        {
          "output_type": "execute_result",
          "data": {
            "text/plain": [
              "array([[-73.98813 ,  40.73203 ],\n",
              "       [-73.9642  ,  40.679993],\n",
              "       [-73.99744 ,  40.737583],\n",
              "       ...,\n",
              "       [-73.97953 ,  40.78161 ],\n",
              "       [-73.97655 ,  40.75224 ],\n",
              "       [-74.0041  ,  40.726627]], dtype=float32)"
            ]
          },
          "metadata": {
            "tags": []
          },
          "execution_count": 22
        }
      ]
    },
    {
      "cell_type": "code",
      "metadata": {
        "id": "D96LJozMhcU1",
        "colab_type": "code",
        "colab": {
          "base_uri": "https://localhost:8080/",
          "height": 136
        },
        "outputId": "a3a00d99-3bc7-4792-e3d7-596253097f48"
      },
      "source": [
        "#Normalized DAta\n",
        "data_scaler=StandardScaler().fit(dbscan_data1)\n",
        "dbscan_data=data_scaler.transform(dbscan_data1)\n",
        "dbscan_data\n",
        "#Normalized numpy array"
      ],
      "execution_count": 23,
      "outputs": [
        {
          "output_type": "execute_result",
          "data": {
            "text/plain": [
              "array([[-0.3744042 , -0.6533985 ],\n",
              "       [ 0.22868954, -2.4890213 ],\n",
              "       [-0.60902613, -0.4574695 ],\n",
              "       ...,\n",
              "       [-0.15766738,  1.0955635 ],\n",
              "       [-0.08247298,  0.05953537],\n",
              "       [-0.77691543, -0.8439448 ]], dtype=float32)"
            ]
          },
          "metadata": {
            "tags": []
          },
          "execution_count": 23
        }
      ]
    },
    {
      "cell_type": "code",
      "metadata": {
        "id": "NcytvRxYiXXj",
        "colab_type": "code",
        "colab": {
          "base_uri": "https://localhost:8080/",
          "height": 51
        },
        "outputId": "460faec0-6e70-42d8-845a-6ff466d5bcb3"
      },
      "source": [
        "#contruct Model\n",
        "'''\n",
        "Min_Sample :: requires minimum 12 data points in a nighborhood\n",
        "eps :: 0.25 in radius\n",
        "\n",
        "'''\n",
        "\n",
        "model=DBSCAN(eps=0.25,min_samples=12,metric='euclidean').fit(dbscan_data)\n",
        "#model\n",
        "model"
      ],
      "execution_count": 24,
      "outputs": [
        {
          "output_type": "execute_result",
          "data": {
            "text/plain": [
              "DBSCAN(algorithm='auto', eps=0.25, leaf_size=30, metric='euclidean',\n",
              "       metric_params=None, min_samples=12, n_jobs=None, p=None)"
            ]
          },
          "metadata": {
            "tags": []
          },
          "execution_count": 24
        }
      ]
    },
    {
      "cell_type": "markdown",
      "metadata": {
        "id": "YvAzSpRwjl6D",
        "colab_type": "text"
      },
      "source": [
        "**visualize Result**"
      ]
    },
    {
      "cell_type": "code",
      "metadata": {
        "id": "l8kekvMokTi4",
        "colab_type": "code",
        "colab": {
          "base_uri": "https://localhost:8080/",
          "height": 34
        },
        "outputId": "5ff2b833-ddbf-4426-ff22-58988f1ed8da"
      },
      "source": [
        "model.labels_"
      ],
      "execution_count": 25,
      "outputs": [
        {
          "output_type": "execute_result",
          "data": {
            "text/plain": [
              "array([0, 0, 0, ..., 0, 0, 0])"
            ]
          },
          "metadata": {
            "tags": []
          },
          "execution_count": 25
        }
      ]
    },
    {
      "cell_type": "code",
      "metadata": {
        "id": "_LoQTRvajaQu",
        "colab_type": "code",
        "colab": {
          "base_uri": "https://localhost:8080/",
          "height": 136
        },
        "outputId": "7bad67a2-f916-4c29-ed01-e38870f0a00a"
      },
      "source": [
        "#separate outliers from cluster data\n",
        "outliers_df=data[model.labels_==-1] # -1 is stands for outliers\n",
        "clusters_df=data[model.labels_!=-1] \n",
        "\n",
        "colors=model.labels_\n",
        "\n",
        "colors_clusters=colors[colors != -1]\n",
        "colors_outliers='black' # outliers show in black color\n",
        "\n",
        "\n",
        "# get info about clusters\n",
        "clusters=Counter(model.labels_)\n",
        "print(clusters)\n",
        "print(data[model.labels_==-1].head(2))\n",
        "print(\"Number of clusters {}\".format(len(clusters)-1))\n"
      ],
      "execution_count": 26,
      "outputs": [
        {
          "output_type": "stream",
          "text": [
            "Counter({0: 38889, 1: 1093, 2: 1008, -1: 188})\n",
            "     Unnamed: 0         id  ...  store_and_fwd_flag pickup_date\n",
            "421         421  id0985073  ...                   Y  2016-06-30\n",
            "674         674  id2970680  ...                   N  2016-06-30\n",
            "\n",
            "[2 rows x 11 columns]\n",
            "Number of clusters 3\n"
          ],
          "name": "stdout"
        }
      ]
    },
    {
      "cell_type": "code",
      "metadata": {
        "id": "fwUdFR_qlW0l",
        "colab_type": "code",
        "colab": {
          "base_uri": "https://localhost:8080/",
          "height": 52
        },
        "outputId": "eda6b7a6-11bb-4576-e89f-bf78991f07d5"
      },
      "source": [
        "'''\n",
        "cluster id= 0:  34033 points  \n",
        "cluster id=-1: 4519 points # this cluster is outliers\n",
        "cluster id= 1:  673 points \n",
        "cluster id=3: 505 points\n",
        "\n",
        "etc\n",
        ".\n",
        ".\n",
        ".\n",
        "\n",
        "\n",
        "'''\n",
        "\n",
        "#total number of clusters are 35"
      ],
      "execution_count": 27,
      "outputs": [
        {
          "output_type": "execute_result",
          "data": {
            "application/vnd.google.colaboratory.intrinsic+json": {
              "type": "string"
            },
            "text/plain": [
              "'\\ncluster id= 0:  34033 points  \\ncluster id=-1: 4519 points # this cluster is outliers\\ncluster id= 1:  673 points \\ncluster id=3: 505 points\\n\\netc\\n.\\n.\\n.\\n\\n\\n'"
            ]
          },
          "metadata": {
            "tags": []
          },
          "execution_count": 27
        }
      ]
    },
    {
      "cell_type": "code",
      "metadata": {
        "id": "ZRBkm869mElq",
        "colab_type": "code",
        "colab": {
          "base_uri": "https://localhost:8080/",
          "height": 382
        },
        "outputId": "7091cc8c-03fd-4561-9d47-f8330455621e"
      },
      "source": [
        "#plot clusters and outliers\n",
        "\n",
        "fig=plt.figure()\n",
        "ax=fig.add_axes([.1,.1,2,2])\n",
        "#for clusters\n",
        "ax.scatter(clusters_df['pickup_longitude'],clusters_df['pickup_latitude'],\n",
        "           c=colors_clusters,edgecolors='black',s=50\n",
        "           )\n",
        "#for outliers\n",
        "ax.scatter(outliers_df['pickup_longitude'],outliers_df['pickup_latitude'],\n",
        "           c=colors_ooutliers,edgecolors='black',s=50\n",
        "           )\n",
        "ax.set_xlabel(\"Longitude\",family=\"Arial\",fontsize=9)\n",
        "ax.set_ylabel(\"Latitude\",family=\"Arial\",fontsize=9)\n",
        "plt.grid(which='major',color='#cccccc',alpha=0.45)\n",
        "plt.title(\"Clusters by DBSCAN Algorithm\")\n",
        "\n"
      ],
      "execution_count": 29,
      "outputs": [
        {
          "output_type": "execute_result",
          "data": {
            "text/plain": [
              "Text(0.5, 1.0, 'Clusters by DBSCAN Algorithm')"
            ]
          },
          "metadata": {
            "tags": []
          },
          "execution_count": 29
        },
        {
          "output_type": "display_data",
          "data": {
            "image/png": "[encoded data removed]",
            "text/plain": [
              "<Figure size 432x288 with 1 Axes>"
            ]
          },
          "metadata": {
            "tags": [],
            "needs_background": "light"
          }
        }
      ]
    },
    {
      "cell_type": "code",
      "metadata": {
        "id": "-XwKax4QqYpu",
        "colab_type": "code",
        "colab": {}
      },
      "source": [
        ""
      ],
      "execution_count": null,
      "outputs": []
    },
    {
      "cell_type": "code",
      "metadata": {
        "id": "lxgBdo4Mopc4",
        "colab_type": "code",
        "colab": {
          "base_uri": "https://localhost:8080/",
          "height": 34
        },
        "outputId": "cfe81f1c-41ca-4762-995a-09eb81961d41"
      },
      "source": [
        "clusters_df.shape"
      ],
      "execution_count": 30,
      "outputs": [
        {
          "output_type": "execute_result",
          "data": {
            "text/plain": [
              "(40990, 11)"
            ]
          },
          "metadata": {
            "tags": []
          },
          "execution_count": 30
        }
      ]
    },
    {
      "cell_type": "code",
      "metadata": {
        "id": "3zQ70dDEqMA0",
        "colab_type": "code",
        "colab": {
          "base_uri": "https://localhost:8080/",
          "height": 34
        },
        "outputId": "78a7aea7-bb63-4380-aca4-4f34e3e4081b"
      },
      "source": [
        "data.shape"
      ],
      "execution_count": 31,
      "outputs": [
        {
          "output_type": "execute_result",
          "data": {
            "text/plain": [
              "(41178, 11)"
            ]
          },
          "metadata": {
            "tags": []
          },
          "execution_count": 31
        }
      ]
    },
    {
      "cell_type": "code",
      "metadata": {
        "id": "oVrSsgECqNgS",
        "colab_type": "code",
        "colab": {
          "base_uri": "https://localhost:8080/",
          "height": 136
        },
        "outputId": "3e6616ef-0e66-4bc1-b480-8d812f73fd15"
      },
      "source": [
        "# now for dropoff\n",
        "#prepare data for model\n",
        "dbscan_data1=data[['dropoff_longitude','dropoff_latitude']]\n",
        "#data convert to Numpy array\n",
        "dbscan_data1=dbscan_data1.values.astype(\"float32\")\n",
        "dbscan_data1"
      ],
      "execution_count": 32,
      "outputs": [
        {
          "output_type": "execute_result",
          "data": {
            "text/plain": [
              "array([[-73.99017 ,  40.75668 ],\n",
              "       [-73.95981 ,  40.655403],\n",
              "       [-73.98616 ,  40.729523],\n",
              "       ...,\n",
              "       [-73.9783  ,  40.78586 ],\n",
              "       [-73.99138 ,  40.75    ],\n",
              "       [-73.98002 ,  40.      ]], dtype=float32)"
            ]
          },
          "metadata": {
            "tags": []
          },
          "execution_count": 32
        }
      ]
    },
    {
      "cell_type": "code",
      "metadata": {
        "id": "5LgAwxvirITJ",
        "colab_type": "code",
        "colab": {
          "base_uri": "https://localhost:8080/",
          "height": 136
        },
        "outputId": "c6b34435-2e2e-414e-cd76-f4bd1eca0cd9"
      },
      "source": [
        "#Normalized DAta\n",
        "data_scaler=StandardScaler().fit(dbscan_data1)\n",
        "dbscan_data=data_scaler.transform(dbscan_data1)\n",
        "dbscan_data\n",
        "#Normalized numpy array"
      ],
      "execution_count": 33,
      "outputs": [
        {
          "output_type": "execute_result",
          "data": {
            "text/plain": [
              "array([[ -0.44431204,   0.13527891],\n",
              "       [  0.34792304,  -2.4995975 ],\n",
              "       [ -0.3396096 ,  -0.57125187],\n",
              "       ...,\n",
              "       [ -0.13458394,   0.89440995],\n",
              "       [ -0.47576258,  -0.03850047],\n",
              "       [ -0.1793711 , -19.551018  ]], dtype=float32)"
            ]
          },
          "metadata": {
            "tags": []
          },
          "execution_count": 33
        }
      ]
    },
    {
      "cell_type": "code",
      "metadata": {
        "id": "D6gylKzPrM5w",
        "colab_type": "code",
        "colab": {
          "base_uri": "https://localhost:8080/",
          "height": 51
        },
        "outputId": "c9c9b0b3-2207-4707-981b-daeee0d04167"
      },
      "source": [
        "#contruct Model\n",
        "'''\n",
        "Min_Sample :: requires minimum 12 data points in a nighborhood\n",
        "eps :: 0.25 in radius\n",
        "\n",
        "'''\n",
        "\n",
        "model=DBSCAN(eps=0.25,min_samples=12,metric='euclidean').fit(dbscan_data)\n",
        "#model\n",
        "model"
      ],
      "execution_count": 34,
      "outputs": [
        {
          "output_type": "execute_result",
          "data": {
            "text/plain": [
              "DBSCAN(algorithm='auto', eps=0.25, leaf_size=30, metric='euclidean',\n",
              "       metric_params=None, min_samples=12, n_jobs=None, p=None)"
            ]
          },
          "metadata": {
            "tags": []
          },
          "execution_count": 34
        }
      ]
    },
    {
      "cell_type": "code",
      "metadata": {
        "id": "Tz4hdP3ErQ5w",
        "colab_type": "code",
        "colab": {
          "base_uri": "https://localhost:8080/",
          "height": 136
        },
        "outputId": "42dea6ce-d548-4a5f-e22b-aad5ca09eddf"
      },
      "source": [
        "#separate outliers from cluster data\n",
        "outliers_df=data[model.labels_==-1] # -1 is stands for outliers\n",
        "clusters_df=data[model.labels_!=-1] \n",
        "\n",
        "colors=model.labels_\n",
        "\n",
        "colors_clusters=colors[colors != -1]\n",
        "colors_outliers='black' # outliers show in black color\n",
        "\n",
        "\n",
        "# get info about clusters\n",
        "clusters=Counter(model.labels_)\n",
        "print(clusters)\n",
        "print(data[model.labels_==-1].head(2))\n",
        "print(\"Number of clusters {}\".format(len(clusters)-1))"
      ],
      "execution_count": 35,
      "outputs": [
        {
          "output_type": "stream",
          "text": [
            "Counter({0: 40197, -1: 455, 2: 386, 3: 81, 1: 47, 4: 12})\n",
            "    Unnamed: 0         id  ...  store_and_fwd_flag pickup_date\n",
            "8            8  id3905224  ...                   N  2016-06-30\n",
            "57          57  id3650870  ...                   N  2016-06-30\n",
            "\n",
            "[2 rows x 11 columns]\n",
            "Number of clusters 5\n"
          ],
          "name": "stdout"
        }
      ]
    },
    {
      "cell_type": "code",
      "metadata": {
        "id": "PJJh9h9vrVTA",
        "colab_type": "code",
        "colab": {
          "base_uri": "https://localhost:8080/",
          "height": 821
        },
        "outputId": "52feb3e4-48e1-4c9f-f656-9925cab1794d"
      },
      "source": [
        "#plot clusters and outliers\n",
        "\n",
        "fig=plt.figure()\n",
        "ax=fig.add_axes([.5,.5,5,5])\n",
        "#for clusters\n",
        "ax.scatter(clusters_df['dropoff_longitude'],clusters_df['dropoff_latitude'],\n",
        "           c=colors_clusters,edgecolors='black',s=50\n",
        "           )\n",
        "#for outliers\n",
        "ax.scatter(outliers_df['dropoff_longitude'],outliers_df['dropoff_latitude'],\n",
        "           c=colors_ooutliers,edgecolors='black',s=50\n",
        "           )\n",
        "ax.set_xlabel(\"Longitude\",family=\"Arial\",fontsize=9)\n",
        "ax.set_ylabel(\"Latitude\",family=\"Arial\",fontsize=9)\n",
        "plt.grid(which='major',color='#cccccc',alpha=0.45)\n",
        "plt.title(\"Clusters by DBSCAN Algorithm\")\n"
      ],
      "execution_count": 39,
      "outputs": [
        {
          "output_type": "execute_result",
          "data": {
            "text/plain": [
              "Text(0.5, 1.0, 'Clusters by DBSCAN Algorithm')"
            ]
          },
          "metadata": {
            "tags": []
          },
          "execution_count": 39
        },
        {
          "output_type": "display_data",
          "data": {
            "image/png": "[encoded data removed]",
            "text/plain": [
              "<Figure size 432x288 with 1 Axes>"
            ]
          },
          "metadata": {
            "tags": [],
            "needs_background": "light"
          }
        }
      ]
    },
    {
      "cell_type": "code",
      "metadata": {
        "id": "d_DJGT83rcQw",
        "colab_type": "code",
        "colab": {}
      },
      "source": [
        ""
      ],
      "execution_count": null,
      "outputs": []
    }
  ]
}